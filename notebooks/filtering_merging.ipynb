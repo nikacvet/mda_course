{
 "cells": [
  {
   "cell_type": "code",
   "execution_count": 13,
   "id": "f9ec99f2",
   "metadata": {},
   "outputs": [],
   "source": [
    "import pandas as pd\n",
    "import re\n",
    "\n",
    "def process_climate_related_projects(project_file_path, org_file_path, \n",
    "                                     output_excel_path,  \n",
    "                                     merged_excel_path, sheet_name='DATA'):\n",
    "    # Load the Excel file\n",
    "    df = pd.read_excel(project_file_path, sheet_name=sheet_name)\n",
    "\n",
    "    # Step 1: Filter projects where 'topics' start with 'HORIZON-CL5-' or 'HORIZON-CL6-'\n",
    "    mask_cl5_cl6 = df['topics'].astype(str).str.startswith(('HORIZON-CL5-', 'HORIZON-CL6-'))\n",
    "    cl5_cl6_projects = df[mask_cl5_cl6]\n",
    "\n",
    "    # Step 2: Exclude those to get the remaining projects\n",
    "    remaining_projects = df[~mask_cl5_cl6]\n",
    "\n",
    "    # Step 3: Define regex pattern for climate-related keywords\n",
    "    pattern = re.compile(\n",
    "        r\"\\b(climate change|zero emission|net[- ]zero|carbon[- ]neutral|decarboni[sz]ation|greenhouse|CO2|GHG|\"\n",
    "        r\"carbon neutrality|carbon capture|carbon sink|carbon sequestration|zero[- ]carbon|\"\n",
    "        r\"low[- ]carbon|climate mitigation|climate adaptation|climate-neutral|\"\n",
    "        r\"renewable energy|clean energy|green hydrogen|\"\n",
    "        r\"sustainable energy|climate-smart|climate crisis|climate risk|\"\n",
    "        r\"sea level rise|extreme weather|biodiversity loss|circular economy|geoengineering|green technology|\"\n",
    "        r\"global warming|environmental impact|environmental sustainability|energy transition)\\b\",\n",
    "        flags=re.IGNORECASE\n",
    "    )\n",
    "\n",
    "    # Step 4: Apply regex to the 'objective' column of the remaining projects\n",
    "    remaining_climate_projects = remaining_projects[\n",
    "        remaining_projects['objective'].astype(str).str.contains(pattern)\n",
    "    ]\n",
    "\n",
    "    # Step 5: Combine both sets of climate-related projects\n",
    "    all_climate_related_projects = pd.concat([cl5_cl6_projects, remaining_climate_projects])\n",
    "\n",
    "    # Save climate-related projects to Excel\n",
    "    all_climate_related_projects.to_excel(output_excel_path, index=False)\n",
    "\n",
    "    # Load the Excel files\n",
    "    project_df = pd.read_excel(output_excel_path)\n",
    "    organization_df = pd.read_excel(org_file_path)\n",
    "\n",
    "    # Merge the datasets\n",
    "    merged_df = pd.merge(organization_df, project_df, left_on=\"projectID\", right_on=\"id\", how=\"inner\")\n",
    "\n",
    "    # Drop unwanted columns\n",
    "    columns_to_drop = ['projectAcronym', 'projectAcronym', 'projectAcronym', 'street', 'postCode', 'city', 'nutsCode', 'geolocation', 'organizationURL',\n",
    "                       'contactForm','rcn_x','order','active', 'id', 'acronym', 'legalBasis','ecSignatureDate',\n",
    "                       'frameworkProgramme','masterCall','nature','rcn_y','grantDoi','subCall','shortName','frameworkProgramme','vatNumber']\n",
    "    merged_df.drop(columns=columns_to_drop, inplace=True, errors='ignore')\n",
    "\n",
    "    # Rename columns\n",
    "    rename_map = {\n",
    "        'SME': 'organisationSME',\n",
    "        'activityType': 'organisationActivityType',\n",
    "        'contentUpdateDate_x': 'organisationContentUpdateDate',\n",
    "        'role': 'organisationRole',\n",
    "        'totalCost_x': 'organisationTotalCost',\n",
    "        'endOfParticipation': 'organisationEndOfParticipation',\n",
    "        'totalCost_y': 'projectTotalCost',\n",
    "        'contentUpdateDate_y': 'projectContentUpdateDate',\n",
    "        'title': 'projectTitle',\n",
    "        'name': 'organisationName'\n",
    "    }\n",
    "    merged_df.rename(columns=rename_map, inplace=True)\n",
    "\n",
    "    # Save to CSV and Excel\n",
    "    #merged_df.to_csv(merged_csv_path, index=False)\n",
    "    merged_df.to_excel(merged_excel_path, index=False)"
   ]
  },
  {
   "cell_type": "code",
   "execution_count": null,
   "id": "6f216ef3",
   "metadata": {},
   "outputs": [
    {
     "name": "stderr",
     "output_type": "stream",
     "text": [
      "c:\\Users\\horoi\\AppData\\Local\\Programs\\Python\\Python39\\lib\\site-packages\\openpyxl\\styles\\stylesheet.py:237: UserWarning: Workbook contains no default style, apply openpyxl's default\n",
      "  warn(\"Workbook contains no default style, apply openpyxl's default\")\n",
      "C:\\Users\\horoi\\AppData\\Local\\Temp\\ipykernel_81332\\2057295209.py:31: UserWarning: This pattern is interpreted as a regular expression, and has match groups. To actually get the groups, use str.extract.\n",
      "  remaining_projects['objective'].astype(str).str.contains(pattern)\n",
      "c:\\Users\\horoi\\AppData\\Local\\Programs\\Python\\Python39\\lib\\site-packages\\openpyxl\\styles\\stylesheet.py:237: UserWarning: Workbook contains no default style, apply openpyxl's default\n",
      "  warn(\"Workbook contains no default style, apply openpyxl's default\")\n"
     ]
    }
   ],
   "source": [
    "process_climate_related_projects(\n",
    "    project_file=\"data/project.xlsx\",\n",
    "    organization_file=\"data/organization.xlsx\",\n",
    "    output_climate_excel=\"output/climate_related_projects.xlsx\",\n",
    "    output_merged_csv=\"output/merged_dataset.csv\",\n",
    "    output_merged_excel=\"output/merged_dataset.xlsx\"\n",
    ")"
   ]
  }
 ],
 "metadata": {
  "kernelspec": {
   "display_name": "Python 3",
   "language": "python",
   "name": "python3"
  },
  "language_info": {
   "codemirror_mode": {
    "name": "ipython",
    "version": 3
   },
   "file_extension": ".py",
   "mimetype": "text/x-python",
   "name": "python",
   "nbconvert_exporter": "python",
   "pygments_lexer": "ipython3",
   "version": "3.9.13"
  }
 },
 "nbformat": 4,
 "nbformat_minor": 5
}
